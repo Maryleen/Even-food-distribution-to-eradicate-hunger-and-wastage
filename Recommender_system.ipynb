{
  "nbformat": 4,
  "nbformat_minor": 0,
  "metadata": {
    "colab": {
      "name": "Recommender system.ipynb",
      "provenance": [],
      "toc_visible": true,
      "authorship_tag": "ABX9TyN4RMdnWaq2u9anoVgnTcZT",
      "include_colab_link": true
    },
    "kernelspec": {
      "name": "python3",
      "display_name": "Python 3"
    }
  },
  "cells": [
    {
      "cell_type": "markdown",
      "metadata": {
        "id": "view-in-github",
        "colab_type": "text"
      },
      "source": [
        "<a href=\"https://colab.research.google.com/github/Maryleen/Even-food-distribution-to-eradicate-hunger-and-wastage/blob/master/Recommender_system.ipynb\" target=\"_parent\"><img src=\"https://colab.research.google.com/assets/colab-badge.svg\" alt=\"Open In Colab\"/></a>"
      ]
    },
    {
      "cell_type": "markdown",
      "metadata": {
        "id": "xJ0m1UwOox5z",
        "colab_type": "text"
      },
      "source": [
        "# Solution 2: Farmer-Consumer matching"
      ]
    },
    {
      "cell_type": "code",
      "metadata": {
        "id": "0r1dkbSuYo3A",
        "colab_type": "code",
        "colab": {}
      },
      "source": [
        "#Set up python packages\n",
        "\n",
        "import matplotlib.pyplot as plt\n",
        "import numpy as np\n",
        "import pandas as pd\n",
        "from sklearn.cluster import KMeans, AgglomerativeClustering\n",
        "from sklearn.metrics import silhouette_score, davies_bouldin_score\n"
      ],
      "execution_count": null,
      "outputs": []
    },
    {
      "cell_type": "markdown",
      "metadata": {
        "id": "2B67ua0iV9eW",
        "colab_type": "text"
      },
      "source": [
        "## Data preparation\n",
        "\n",
        "We will generate a fake profile dataset of farmers and consumers using features they will enter in the recommender app."
      ]
    },
    {
      "cell_type": "code",
      "metadata": {
        "id": "DG2Q0cPXVlpv",
        "colab_type": "code",
        "colab": {}
      },
      "source": [
        "# List of potential farmer-consumer matching questions/categories\n",
        "\n",
        "qs = ['Location', #where is the farmer/consumer located\n",
        "      'Food_Type', #the different types of produce available on the platform\n",
        "      'Present_condition', #Produce state whether fresh or stale [some people use stale ones for feed for livestock.... thats one of the reasons to that ]\n",
        "      'How_soon', #how soon can it be delivered / how soon does consumer want it\n",
        "      'Quantity', #how many do you have in stock / how many do you want to buy?\n",
        "      'User_type' #farmer or consumer [This is needed to place constraints on the algorithm to ensure that there must be at least x no of farmers in a cluster and that it doesn't create consumer only clusters]\n",
        "      ]\n",
        "\n",
        "#create dataframe for questions/categories\n",
        "data_rows = 5000  #number of rows in the dataset\n",
        "cat_df = pd.DataFrame(columns=qs) #define the dataframe\n",
        "\n",
        "cat_df.head()\n",
        "\n",
        "#Filling with random data\n",
        "\n",
        "for i in cat_df.columns:\n",
        "  #categorical values ranging from 0 to 5 with 5 being the highest in the scale\n",
        "  if i=='Location':\n",
        "    cat_df[i] = np.random.randint(0,35, data_rows)   #one of the 36 states of the country\n",
        "  elif i=='User_type':\n",
        "    cat_df[i] = np.random.randint(0,1, data_rows)    \n",
        "  else:\n",
        "    cat_df[i] = np.random.randint(0,5, data_rows)\n"
      ],
      "execution_count": null,
      "outputs": []
    },
    {
      "cell_type": "code",
      "metadata": {
        "id": "MOw0_HTeV7iM",
        "colab_type": "code",
        "colab": {
          "base_uri": "https://localhost:8080/",
          "height": 407
        },
        "outputId": "8a630aa8-3f6a-4d58-8c8c-6d733520779d"
      },
      "source": [
        "cat_df"
      ],
      "execution_count": null,
      "outputs": [
        {
          "output_type": "execute_result",
          "data": {
            "text/html": [
              "<div>\n",
              "<style scoped>\n",
              "    .dataframe tbody tr th:only-of-type {\n",
              "        vertical-align: middle;\n",
              "    }\n",
              "\n",
              "    .dataframe tbody tr th {\n",
              "        vertical-align: top;\n",
              "    }\n",
              "\n",
              "    .dataframe thead th {\n",
              "        text-align: right;\n",
              "    }\n",
              "</style>\n",
              "<table border=\"1\" class=\"dataframe\">\n",
              "  <thead>\n",
              "    <tr style=\"text-align: right;\">\n",
              "      <th></th>\n",
              "      <th>Location</th>\n",
              "      <th>Food_Type</th>\n",
              "      <th>Present_condition</th>\n",
              "      <th>How_soon</th>\n",
              "      <th>Quantity</th>\n",
              "      <th>User_type</th>\n",
              "    </tr>\n",
              "  </thead>\n",
              "  <tbody>\n",
              "    <tr>\n",
              "      <th>0</th>\n",
              "      <td>31</td>\n",
              "      <td>2</td>\n",
              "      <td>3</td>\n",
              "      <td>2</td>\n",
              "      <td>0</td>\n",
              "      <td>0</td>\n",
              "    </tr>\n",
              "    <tr>\n",
              "      <th>1</th>\n",
              "      <td>31</td>\n",
              "      <td>4</td>\n",
              "      <td>4</td>\n",
              "      <td>1</td>\n",
              "      <td>4</td>\n",
              "      <td>0</td>\n",
              "    </tr>\n",
              "    <tr>\n",
              "      <th>2</th>\n",
              "      <td>15</td>\n",
              "      <td>3</td>\n",
              "      <td>1</td>\n",
              "      <td>2</td>\n",
              "      <td>1</td>\n",
              "      <td>0</td>\n",
              "    </tr>\n",
              "    <tr>\n",
              "      <th>3</th>\n",
              "      <td>4</td>\n",
              "      <td>0</td>\n",
              "      <td>0</td>\n",
              "      <td>4</td>\n",
              "      <td>1</td>\n",
              "      <td>0</td>\n",
              "    </tr>\n",
              "    <tr>\n",
              "      <th>4</th>\n",
              "      <td>32</td>\n",
              "      <td>4</td>\n",
              "      <td>3</td>\n",
              "      <td>2</td>\n",
              "      <td>3</td>\n",
              "      <td>0</td>\n",
              "    </tr>\n",
              "    <tr>\n",
              "      <th>...</th>\n",
              "      <td>...</td>\n",
              "      <td>...</td>\n",
              "      <td>...</td>\n",
              "      <td>...</td>\n",
              "      <td>...</td>\n",
              "      <td>...</td>\n",
              "    </tr>\n",
              "    <tr>\n",
              "      <th>4995</th>\n",
              "      <td>29</td>\n",
              "      <td>2</td>\n",
              "      <td>0</td>\n",
              "      <td>4</td>\n",
              "      <td>3</td>\n",
              "      <td>0</td>\n",
              "    </tr>\n",
              "    <tr>\n",
              "      <th>4996</th>\n",
              "      <td>16</td>\n",
              "      <td>1</td>\n",
              "      <td>3</td>\n",
              "      <td>0</td>\n",
              "      <td>0</td>\n",
              "      <td>0</td>\n",
              "    </tr>\n",
              "    <tr>\n",
              "      <th>4997</th>\n",
              "      <td>9</td>\n",
              "      <td>2</td>\n",
              "      <td>2</td>\n",
              "      <td>4</td>\n",
              "      <td>2</td>\n",
              "      <td>0</td>\n",
              "    </tr>\n",
              "    <tr>\n",
              "      <th>4998</th>\n",
              "      <td>8</td>\n",
              "      <td>4</td>\n",
              "      <td>2</td>\n",
              "      <td>3</td>\n",
              "      <td>1</td>\n",
              "      <td>0</td>\n",
              "    </tr>\n",
              "    <tr>\n",
              "      <th>4999</th>\n",
              "      <td>22</td>\n",
              "      <td>3</td>\n",
              "      <td>2</td>\n",
              "      <td>1</td>\n",
              "      <td>2</td>\n",
              "      <td>0</td>\n",
              "    </tr>\n",
              "  </tbody>\n",
              "</table>\n",
              "<p>5000 rows × 6 columns</p>\n",
              "</div>"
            ],
            "text/plain": [
              "      Location  Food_Type  Present_condition  How_soon  Quantity  User_type\n",
              "0           31          2                  3         2         0          0\n",
              "1           31          4                  4         1         4          0\n",
              "2           15          3                  1         2         1          0\n",
              "3            4          0                  0         4         1          0\n",
              "4           32          4                  3         2         3          0\n",
              "...        ...        ...                ...       ...       ...        ...\n",
              "4995        29          2                  0         4         3          0\n",
              "4996        16          1                  3         0         0          0\n",
              "4997         9          2                  2         4         2          0\n",
              "4998         8          4                  2         3         1          0\n",
              "4999        22          3                  2         1         2          0\n",
              "\n",
              "[5000 rows x 6 columns]"
            ]
          },
          "metadata": {
            "tags": []
          },
          "execution_count": 3
        }
      ]
    },
    {
      "cell_type": "markdown",
      "metadata": {
        "id": "9mOEBW5kaDaH",
        "colab_type": "text"
      },
      "source": [
        "## Model building\n",
        "\n",
        "We will be building a clustering model here. One hyperparameter it requires is the number of clusters. We will evaluate this and choose the best number of clusters using the silhouette score and the davies bouldin score.\n",
        "\n",
        "The silhouette score measures how similar data points are to their own cluster (cohesion) compared to others (separation) and ranges from -1 to 1 (worse to best).\n",
        "\n",
        "For Davies bouldin score, clusters that are far apart and less dispersed give better scores. The minimum value is 0 with lower values indicating better clustering"
      ]
    },
    {
      "cell_type": "code",
      "metadata": {
        "id": "6f-NdbiUaA1-",
        "colab_type": "code",
        "colab": {}
      },
      "source": [
        "#setting the number of clusters to evaluate\n",
        "count = [k for k in range (2,40,1)]\n",
        "\n",
        "#list to store the evaluationscores\n",
        "s_score =[] # silhouette score empty list\n",
        "db_score = [] #davies bouldin score empty list\n",
        "\n",
        "for k in count:\n",
        "\n",
        "  #KMeans clustering with different k clusters\n",
        "  kmeans = KMeans(k, init='k-means++')\n",
        "  kmeans.fit(cat_df)\n",
        "  y_pred = kmeans.predict(cat_df)\n",
        "\n",
        "  #agglo_cl = AgglomerativeClustering(k)\n",
        "  #agglo_cl.fit(cat_df)\n",
        "  #y_pred = agglo_cl.labels_\n",
        "\n",
        "\n",
        "  s_score.append(silhouette_score(cat_df,y_pred))\n",
        "  db_score.append(davies_bouldin_score(cat_df,y_pred))"
      ],
      "execution_count": null,
      "outputs": []
    },
    {
      "cell_type": "code",
      "metadata": {
        "id": "JtFs5kl5d4ym",
        "colab_type": "code",
        "colab": {
          "base_uri": "https://localhost:8080/",
          "height": 297
        },
        "outputId": "0f9af637-9b7d-43e8-cc96-a36e2580c60b"
      },
      "source": [
        "plt.plot(count, s_score)\n",
        "plt.xlabel('No. of clusters')\n",
        "plt.ylabel('Score')\n",
        "plt.show"
      ],
      "execution_count": null,
      "outputs": [
        {
          "output_type": "execute_result",
          "data": {
            "text/plain": [
              "<function matplotlib.pyplot.show>"
            ]
          },
          "metadata": {
            "tags": []
          },
          "execution_count": 5
        },
        {
          "output_type": "display_data",
          "data": {
            "image/png": "[encoded data removed]",
            "text/plain": [
              "<Figure size 432x288 with 1 Axes>"
            ]
          },
          "metadata": {
            "tags": [],
            "needs_background": "light"
          }
        }
      ]
    },
    {
      "cell_type": "code",
      "metadata": {
        "id": "oZFPqcope2gl",
        "colab_type": "code",
        "colab": {
          "base_uri": "https://localhost:8080/",
          "height": 297
        },
        "outputId": "499285bf-69bc-45e1-e4c3-22c9407baf87"
      },
      "source": [
        "plt.plot(count, db_score)\n",
        "plt.xlabel('No. of clusters')\n",
        "plt.ylabel('Score')\n",
        "plt.show"
      ],
      "execution_count": null,
      "outputs": [
        {
          "output_type": "execute_result",
          "data": {
            "text/plain": [
              "<function matplotlib.pyplot.show>"
            ]
          },
          "metadata": {
            "tags": []
          },
          "execution_count": 6
        },
        {
          "output_type": "display_data",
          "data": {
            "image/png": "[encoded data removed]",
            "text/plain": [
              "<Figure size 432x288 with 1 Axes>"
            ]
          },
          "metadata": {
            "tags": [],
            "needs_background": "light"
          }
        }
      ]
    },
    {
      "cell_type": "markdown",
      "metadata": {
        "id": "ya0VKv7nP8vZ",
        "colab_type": "text"
      },
      "source": [
        "Based on the evaluation scores, we will choose 17 as the number of clusters"
      ]
    },
    {
      "cell_type": "code",
      "metadata": {
        "id": "ScSe9UccfMw5",
        "colab_type": "code",
        "colab": {}
      },
      "source": [
        "#Building the model with the evaluated best number of clusters\n",
        "\n",
        "n_clusters = 17\n",
        "k_means = KMeans(n_clusters=n_clusters)\n",
        "k_means.fit(cat_df)\n",
        "y_pred = k_means.predict(cat_df)"
      ],
      "execution_count": null,
      "outputs": []
    },
    {
      "cell_type": "code",
      "metadata": {
        "id": "gUtGDXvhjzvv",
        "colab_type": "code",
        "colab": {}
      },
      "source": [
        "cat_df['Cluster No.'] = y_pred"
      ],
      "execution_count": null,
      "outputs": []
    },
    {
      "cell_type": "code",
      "metadata": {
        "id": "RWNCDRNMkFuw",
        "colab_type": "code",
        "colab": {
          "base_uri": "https://localhost:8080/",
          "height": 407
        },
        "outputId": "1a9b4436-5857-4413-c6b5-893cd1a14469"
      },
      "source": [
        "cat_df"
      ],
      "execution_count": null,
      "outputs": [
        {
          "output_type": "execute_result",
          "data": {
            "text/html": [
              "<div>\n",
              "<style scoped>\n",
              "    .dataframe tbody tr th:only-of-type {\n",
              "        vertical-align: middle;\n",
              "    }\n",
              "\n",
              "    .dataframe tbody tr th {\n",
              "        vertical-align: top;\n",
              "    }\n",
              "\n",
              "    .dataframe thead th {\n",
              "        text-align: right;\n",
              "    }\n",
              "</style>\n",
              "<table border=\"1\" class=\"dataframe\">\n",
              "  <thead>\n",
              "    <tr style=\"text-align: right;\">\n",
              "      <th></th>\n",
              "      <th>Location</th>\n",
              "      <th>Food_Type</th>\n",
              "      <th>Present_condition</th>\n",
              "      <th>How_soon</th>\n",
              "      <th>Quantity</th>\n",
              "      <th>User_type</th>\n",
              "      <th>Cluster No.</th>\n",
              "    </tr>\n",
              "  </thead>\n",
              "  <tbody>\n",
              "    <tr>\n",
              "      <th>0</th>\n",
              "      <td>31</td>\n",
              "      <td>2</td>\n",
              "      <td>3</td>\n",
              "      <td>2</td>\n",
              "      <td>0</td>\n",
              "      <td>0</td>\n",
              "      <td>1</td>\n",
              "    </tr>\n",
              "    <tr>\n",
              "      <th>1</th>\n",
              "      <td>31</td>\n",
              "      <td>4</td>\n",
              "      <td>4</td>\n",
              "      <td>1</td>\n",
              "      <td>4</td>\n",
              "      <td>0</td>\n",
              "      <td>1</td>\n",
              "    </tr>\n",
              "    <tr>\n",
              "      <th>2</th>\n",
              "      <td>15</td>\n",
              "      <td>3</td>\n",
              "      <td>1</td>\n",
              "      <td>2</td>\n",
              "      <td>1</td>\n",
              "      <td>0</td>\n",
              "      <td>15</td>\n",
              "    </tr>\n",
              "    <tr>\n",
              "      <th>3</th>\n",
              "      <td>4</td>\n",
              "      <td>0</td>\n",
              "      <td>0</td>\n",
              "      <td>4</td>\n",
              "      <td>1</td>\n",
              "      <td>0</td>\n",
              "      <td>12</td>\n",
              "    </tr>\n",
              "    <tr>\n",
              "      <th>4</th>\n",
              "      <td>32</td>\n",
              "      <td>4</td>\n",
              "      <td>3</td>\n",
              "      <td>2</td>\n",
              "      <td>3</td>\n",
              "      <td>0</td>\n",
              "      <td>10</td>\n",
              "    </tr>\n",
              "    <tr>\n",
              "      <th>...</th>\n",
              "      <td>...</td>\n",
              "      <td>...</td>\n",
              "      <td>...</td>\n",
              "      <td>...</td>\n",
              "      <td>...</td>\n",
              "      <td>...</td>\n",
              "      <td>...</td>\n",
              "    </tr>\n",
              "    <tr>\n",
              "      <th>4995</th>\n",
              "      <td>29</td>\n",
              "      <td>2</td>\n",
              "      <td>0</td>\n",
              "      <td>4</td>\n",
              "      <td>3</td>\n",
              "      <td>0</td>\n",
              "      <td>1</td>\n",
              "    </tr>\n",
              "    <tr>\n",
              "      <th>4996</th>\n",
              "      <td>16</td>\n",
              "      <td>1</td>\n",
              "      <td>3</td>\n",
              "      <td>0</td>\n",
              "      <td>0</td>\n",
              "      <td>0</td>\n",
              "      <td>0</td>\n",
              "    </tr>\n",
              "    <tr>\n",
              "      <th>4997</th>\n",
              "      <td>9</td>\n",
              "      <td>2</td>\n",
              "      <td>2</td>\n",
              "      <td>4</td>\n",
              "      <td>2</td>\n",
              "      <td>0</td>\n",
              "      <td>16</td>\n",
              "    </tr>\n",
              "    <tr>\n",
              "      <th>4998</th>\n",
              "      <td>8</td>\n",
              "      <td>4</td>\n",
              "      <td>2</td>\n",
              "      <td>3</td>\n",
              "      <td>1</td>\n",
              "      <td>0</td>\n",
              "      <td>4</td>\n",
              "    </tr>\n",
              "    <tr>\n",
              "      <th>4999</th>\n",
              "      <td>22</td>\n",
              "      <td>3</td>\n",
              "      <td>2</td>\n",
              "      <td>1</td>\n",
              "      <td>2</td>\n",
              "      <td>0</td>\n",
              "      <td>9</td>\n",
              "    </tr>\n",
              "  </tbody>\n",
              "</table>\n",
              "<p>5000 rows × 7 columns</p>\n",
              "</div>"
            ],
            "text/plain": [
              "      Location  Food_Type  Present_condition  ...  Quantity  User_type  Cluster No.\n",
              "0           31          2                  3  ...         0          0            1\n",
              "1           31          4                  4  ...         4          0            1\n",
              "2           15          3                  1  ...         1          0           15\n",
              "3            4          0                  0  ...         1          0           12\n",
              "4           32          4                  3  ...         3          0           10\n",
              "...        ...        ...                ...  ...       ...        ...          ...\n",
              "4995        29          2                  0  ...         3          0            1\n",
              "4996        16          1                  3  ...         0          0            0\n",
              "4997         9          2                  2  ...         2          0           16\n",
              "4998         8          4                  2  ...         1          0            4\n",
              "4999        22          3                  2  ...         2          0            9\n",
              "\n",
              "[5000 rows x 7 columns]"
            ]
          },
          "metadata": {
            "tags": []
          },
          "execution_count": 9
        }
      ]
    },
    {
      "cell_type": "markdown",
      "metadata": {
        "id": "qLyyWSXJmLYA",
        "colab_type": "text"
      },
      "source": [
        "## Visualisation of farmer-consumer matching\n",
        "\n",
        "Create a column of user id - 0 or 1 for farmer/consumer\n",
        "Visualise with different colors for farmers and consumers"
      ]
    },
    {
      "cell_type": "code",
      "metadata": {
        "id": "Gwm_uZQcktW5",
        "colab_type": "code",
        "colab": {}
      },
      "source": [
        "#In the event that some consumers get matched with consumers, how do we solve this?\n",
        "#wouldn't be an issue if there is a cluster(community) of consumer/farmer and they are evenly dstributed. But what if it creates a cluster of only consumers or farmers?\n",
        "\n"
      ],
      "execution_count": null,
      "outputs": []
    },
    {
      "cell_type": "code",
      "metadata": {
        "id": "OZuUPOY-MSXl",
        "colab_type": "code",
        "colab": {
          "base_uri": "https://localhost:8080/",
          "height": 269
        },
        "outputId": "496aa81a-0811-483c-d5d4-3f535c8b0b2d"
      },
      "source": [
        "from sklearn import manifold\n",
        "def visualizeData(Z, label, n_clusters):\n",
        "  labels = y_pred.astype(int)  #convert the labels to interget\n",
        "  tsne = manifold.TSNE (n_components=2, init='pca',random_state=0)\n",
        "  Z_tsne = tsne.fit_transform(Z)\n",
        "  fig=plt.figure()\n",
        "  plt.scatter(Z_tsne[:,0], Z_tsne[:,1], s=2, c=label,cmap=plt.cm.get_cmap(\"jet\",n_clusters))\n",
        "  plt.colorbar(ticks=range(n_clusters))\n",
        "\n",
        "visualizeData(cat_df, y_pred, n_clusters)"
      ],
      "execution_count": null,
      "outputs": [
        {
          "output_type": "display_data",
          "data": {
            "image/png": "[encoded data removed]",
            "text/plain": [
              "<Figure size 432x288 with 2 Axes>"
            ]
          },
          "metadata": {
            "tags": [],
            "needs_background": "light"
          }
        }
      ]
    }
  ]
}