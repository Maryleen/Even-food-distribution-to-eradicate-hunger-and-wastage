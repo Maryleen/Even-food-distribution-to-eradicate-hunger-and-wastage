{
  "nbformat": 4,
  "nbformat_minor": 0,
  "metadata": {
    "colab": {
      "name": "Food demand prediction model.ipynb",
      "provenance": [],
      "collapsed_sections": [],
      "toc_visible": true,
      "include_colab_link": true
    },
    "kernelspec": {
      "name": "python3",
      "display_name": "Python 3"
    }
  },
  "cells": [
    {
      "cell_type": "markdown",
      "metadata": {
        "id": "view-in-github",
        "colab_type": "text"
      },
      "source": [
        "<a href=\"https://colab.research.google.com/github/Maryleen/Even-food-distribution-to-eradicate-hunger-and-wastage/blob/master/Food_demand_prediction_model.ipynb\" target=\"_parent\"><img src=\"https://colab.research.google.com/assets/colab-badge.svg\" alt=\"Open In Colab\"/></a>"
      ]
    },
    {
      "cell_type": "markdown",
      "metadata": {
        "id": "kasTUU8vf4jw",
        "colab_type": "text"
      },
      "source": [
        "# Solution 1: Food demand prediction model\n",
        "\n",
        "A system that can predict demand of food and help farmers make informed decisions to prevent wastage. The solution to be developed is a predictive model that takes in features like price, inflation, population growth and output forecast for food in the coming year."
      ]
    },
    {
      "cell_type": "code",
      "metadata": {
        "id": "PlH6G7oQarJU",
        "colab_type": "code",
        "colab": {}
      },
      "source": [
        "#Set up python packages\n",
        "\n",
        "import matplotlib.pyplot as plt\n",
        "import numpy as np\n",
        "import pandas as pd\n",
        "\n",
        "import matplotlib.ticker as ticker\n",
        "import seaborn as sns\n",
        "from sklearn.model_selection import train_test_split \n",
        "from sklearn.linear_model import LinearRegression\n",
        "from sklearn import metrics\n",
        "%matplotlib inline\n",
        "import datetime\n",
        "from scipy import interpolate  #interpolation to fill missing data\n",
        "\n",
        "from numpy import array #numerical computation\n",
        "\n",
        "from sklearn.preprocessing import StandardScaler, MinMaxScaler #for the standardization of variables\n",
        "from sklearn.model_selection import train_test_split, TimeSeriesSplit, cross_val_score\n",
        "\n",
        "from sklearn.metrics import mean_squared_error\n",
        "from math import sqrt\n",
        "from statsmodels.tsa.vector_ar.var_model import VAR"
      ],
      "execution_count": 50,
      "outputs": []
    },
    {
      "cell_type": "code",
      "metadata": {
        "id": "ffArhKTzgeFy",
        "colab_type": "code",
        "colab": {
          "base_uri": "https://localhost:8080/",
          "height": 637
        },
        "outputId": "5381546f-a842-4978-b90c-5cdebbf429e6"
      },
      "source": [
        "#This code will help with loading the data\n",
        "# Code to read csv file into Colaboratory:\n",
        "!pip install -U -q PyDrive\n",
        "from pydrive.auth import GoogleAuth\n",
        "from pydrive.drive import GoogleDrive\n",
        "from google.colab import auth\n",
        "from oauth2client.client import GoogleCredentials\n",
        "# Authenticate and create the PyDrive client.\n",
        "auth.authenticate_user()\n",
        "gauth = GoogleAuth()\n",
        "gauth.credentials = GoogleCredentials.get_application_default()\n",
        "drive = GoogleDrive(gauth)\n",
        "\n",
        "import pandas as pd\n",
        "link_needed='https://drive.google.com/open?id=1li5Z9vXVqVYYTD8HI-_NhOCAD-psMEwi'\n",
        "fluff, id = link_needed.split('=')\n",
        "downloaded = drive.CreateFile({'id':id}) \n",
        "downloaded.GetContentFile('food.csv')  \n",
        "\n",
        "print (id) # Verify that you have everything after '='\n"
      ],
      "execution_count": 51,
      "outputs": [
        {
          "output_type": "stream",
          "text": [
            "WARNING:googleapiclient.discovery_cache:file_cache is unavailable when using oauth2client >= 4.0.0 or google-auth\n",
            "Traceback (most recent call last):\n",
            "  File \"/usr/local/lib/python3.6/dist-packages/googleapiclient/discovery_cache/__init__.py\", line 36, in autodetect\n",
            "    from google.appengine.api import memcache\n",
            "ModuleNotFoundError: No module named 'google.appengine'\n",
            "\n",
            "During handling of the above exception, another exception occurred:\n",
            "\n",
            "Traceback (most recent call last):\n",
            "  File \"/usr/local/lib/python3.6/dist-packages/googleapiclient/discovery_cache/file_cache.py\", line 33, in <module>\n",
            "    from oauth2client.contrib.locked_file import LockedFile\n",
            "ModuleNotFoundError: No module named 'oauth2client.contrib.locked_file'\n",
            "\n",
            "During handling of the above exception, another exception occurred:\n",
            "\n",
            "Traceback (most recent call last):\n",
            "  File \"/usr/local/lib/python3.6/dist-packages/googleapiclient/discovery_cache/file_cache.py\", line 37, in <module>\n",
            "    from oauth2client.locked_file import LockedFile\n",
            "ModuleNotFoundError: No module named 'oauth2client.locked_file'\n",
            "\n",
            "During handling of the above exception, another exception occurred:\n",
            "\n",
            "Traceback (most recent call last):\n",
            "  File \"/usr/local/lib/python3.6/dist-packages/googleapiclient/discovery_cache/__init__.py\", line 42, in autodetect\n",
            "    from . import file_cache\n",
            "  File \"/usr/local/lib/python3.6/dist-packages/googleapiclient/discovery_cache/file_cache.py\", line 41, in <module>\n",
            "    \"file_cache is unavailable when using oauth2client >= 4.0.0 or google-auth\"\n",
            "ImportError: file_cache is unavailable when using oauth2client >= 4.0.0 or google-auth\n",
            "INFO:googleapiclient.discovery:URL being requested: GET https://www.googleapis.com/discovery/v1/apis/drive/v2/rest\n",
            "INFO:oauth2client.transport:Attempting refresh to obtain initial access_token\n",
            "INFO:oauth2client.client:Refreshing access_token\n",
            "INFO:googleapiclient.discovery:URL being requested: GET https://www.googleapis.com/drive/v2/files/1li5Z9vXVqVYYTD8HI-_NhOCAD-psMEwi?alt=json\n"
          ],
          "name": "stderr"
        },
        {
          "output_type": "stream",
          "text": [
            "1li5Z9vXVqVYYTD8HI-_NhOCAD-psMEwi\n"
          ],
          "name": "stdout"
        }
      ]
    },
    {
      "cell_type": "markdown",
      "metadata": {
        "id": "_phGY56tbDU4",
        "colab_type": "text"
      },
      "source": [
        "## Data preparation\n",
        "\n",
        "Here we will explore the data and handle missing data points"
      ]
    },
    {
      "cell_type": "code",
      "metadata": {
        "id": "Aou89tvLjpAr",
        "colab_type": "code",
        "colab": {
          "base_uri": "https://localhost:8080/",
          "height": 235
        },
        "outputId": "dd822f56-9217-44b0-bdb1-8d943e5200d0"
      },
      "source": [
        "#read the file\n",
        "\n",
        "food = pd.read_csv('food.csv')\n",
        "#pd.set_option(\"display.max_rows\", None, \"display.max_columns\", None) #to view the entire dataset\n",
        "food.head()"
      ],
      "execution_count": 52,
      "outputs": [
        {
          "output_type": "execute_result",
          "data": {
            "text/html": [
              "<div>\n",
              "<style scoped>\n",
              "    .dataframe tbody tr th:only-of-type {\n",
              "        vertical-align: middle;\n",
              "    }\n",
              "\n",
              "    .dataframe tbody tr th {\n",
              "        vertical-align: top;\n",
              "    }\n",
              "\n",
              "    .dataframe thead th {\n",
              "        text-align: right;\n",
              "    }\n",
              "</style>\n",
              "<table border=\"1\" class=\"dataframe\">\n",
              "  <thead>\n",
              "    <tr style=\"text-align: right;\">\n",
              "      <th></th>\n",
              "      <th>Serial_Number</th>\n",
              "      <th>Year</th>\n",
              "      <th>Production_Quantity_tonnes</th>\n",
              "      <th>Yield_hg/ha</th>\n",
              "      <th>Food_Supply_Consumption_ha</th>\n",
              "      <th>Inflation</th>\n",
              "      <th>Population_Size_millions</th>\n",
              "      <th>Population_Age_percent</th>\n",
              "      <th>Consumption_Growth</th>\n",
              "      <th>Consumer_Price_Index</th>\n",
              "      <th>Unemployment_Rate_percent</th>\n",
              "      <th>Unnamed: 11</th>\n",
              "      <th>Population_Growth_percent</th>\n",
              "      <th>Food_Demand</th>\n",
              "    </tr>\n",
              "  </thead>\n",
              "  <tbody>\n",
              "    <tr>\n",
              "      <th>0</th>\n",
              "      <td>1</td>\n",
              "      <td>1961</td>\n",
              "      <td>7384000</td>\n",
              "      <td>94667</td>\n",
              "      <td>780000</td>\n",
              "      <td>6.3</td>\n",
              "      <td>46.06</td>\n",
              "      <td>2.86</td>\n",
              "      <td>NaN</td>\n",
              "      <td>NaN</td>\n",
              "      <td>NaN</td>\n",
              "      <td>NaN</td>\n",
              "      <td>2.03</td>\n",
              "      <td>389817</td>\n",
              "    </tr>\n",
              "    <tr>\n",
              "      <th>1</th>\n",
              "      <td>2</td>\n",
              "      <td>1962</td>\n",
              "      <td>7583000</td>\n",
              "      <td>87665</td>\n",
              "      <td>865000</td>\n",
              "      <td>5.3</td>\n",
              "      <td>47.03</td>\n",
              "      <td>2.88</td>\n",
              "      <td>NaN</td>\n",
              "      <td>NaN</td>\n",
              "      <td>NaN</td>\n",
              "      <td>NaN</td>\n",
              "      <td>2.08</td>\n",
              "      <td>398027</td>\n",
              "    </tr>\n",
              "    <tr>\n",
              "      <th>2</th>\n",
              "      <td>3</td>\n",
              "      <td>1963</td>\n",
              "      <td>7783000</td>\n",
              "      <td>97166</td>\n",
              "      <td>801000</td>\n",
              "      <td>2.7</td>\n",
              "      <td>48.03</td>\n",
              "      <td>2.90</td>\n",
              "      <td>NaN</td>\n",
              "      <td>NaN</td>\n",
              "      <td>NaN</td>\n",
              "      <td>NaN</td>\n",
              "      <td>2.11</td>\n",
              "      <td>406490</td>\n",
              "    </tr>\n",
              "    <tr>\n",
              "      <th>3</th>\n",
              "      <td>4</td>\n",
              "      <td>1964</td>\n",
              "      <td>7982000</td>\n",
              "      <td>91747</td>\n",
              "      <td>870000</td>\n",
              "      <td>0.9</td>\n",
              "      <td>49.07</td>\n",
              "      <td>2.89</td>\n",
              "      <td>NaN</td>\n",
              "      <td>NaN</td>\n",
              "      <td>NaN</td>\n",
              "      <td>NaN</td>\n",
              "      <td>2.13</td>\n",
              "      <td>415292</td>\n",
              "    </tr>\n",
              "    <tr>\n",
              "      <th>4</th>\n",
              "      <td>5</td>\n",
              "      <td>1965</td>\n",
              "      <td>8182000</td>\n",
              "      <td>98697</td>\n",
              "      <td>829000</td>\n",
              "      <td>4.0</td>\n",
              "      <td>50.13</td>\n",
              "      <td>2.87</td>\n",
              "      <td>NaN</td>\n",
              "      <td>NaN</td>\n",
              "      <td>NaN</td>\n",
              "      <td>NaN</td>\n",
              "      <td>2.14</td>\n",
              "      <td>424263</td>\n",
              "    </tr>\n",
              "  </tbody>\n",
              "</table>\n",
              "</div>"
            ],
            "text/plain": [
              "   Serial_Number  Year  ...  Population_Growth_percent  Food_Demand\n",
              "0              1  1961  ...                       2.03       389817\n",
              "1              2  1962  ...                       2.08       398027\n",
              "2              3  1963  ...                       2.11       406490\n",
              "3              4  1964  ...                       2.13       415292\n",
              "4              5  1965  ...                       2.14       424263\n",
              "\n",
              "[5 rows x 14 columns]"
            ]
          },
          "metadata": {
            "tags": []
          },
          "execution_count": 52
        }
      ]
    },
    {
      "cell_type": "code",
      "metadata": {
        "id": "PdKlhbFi0WIw",
        "colab_type": "code",
        "colab": {
          "base_uri": "https://localhost:8080/",
          "height": 399
        },
        "outputId": "8bae0ddc-0ee3-4af5-addd-9bfeaf6ac69e"
      },
      "source": [
        "food.info()"
      ],
      "execution_count": 53,
      "outputs": [
        {
          "output_type": "stream",
          "text": [
            "<class 'pandas.core.frame.DataFrame'>\n",
            "RangeIndex: 58 entries, 0 to 57\n",
            "Data columns (total 14 columns):\n",
            " #   Column                      Non-Null Count  Dtype  \n",
            "---  ------                      --------------  -----  \n",
            " 0   Serial_Number               58 non-null     int64  \n",
            " 1   Year                        58 non-null     int64  \n",
            " 2   Production_Quantity_tonnes  58 non-null     int64  \n",
            " 3   Yield_hg/ha                 58 non-null     int64  \n",
            " 4   Food_Supply_Consumption_ha  58 non-null     int64  \n",
            " 5   Inflation                   58 non-null     float64\n",
            " 6   Population_Size_millions    58 non-null     float64\n",
            " 7   Population_Age_percent      58 non-null     float64\n",
            " 8   Consumption_Growth          8 non-null      float64\n",
            " 9   Consumer_Price_Index        12 non-null     float64\n",
            " 10  Unemployment_Rate_percent   28 non-null     float64\n",
            " 11  Unnamed: 11                 0 non-null      float64\n",
            " 12  Population_Growth_percent   14 non-null     float64\n",
            " 13  Food_Demand                 58 non-null     int64  \n",
            "dtypes: float64(8), int64(6)\n",
            "memory usage: 6.5 KB\n"
          ],
          "name": "stdout"
        }
      ]
    },
    {
      "cell_type": "code",
      "metadata": {
        "id": "8jyckoNrBZNG",
        "colab_type": "code",
        "colab": {}
      },
      "source": [
        "##REMOVE NAMED AND UNNAMED EMPTY COLUMNS:\n",
        "\n",
        "empty_cols = [col for col in food.columns if food[col].isnull().all()]\n",
        "food.drop(empty_cols,\n",
        "        axis=1,\n",
        "        inplace=True)"
      ],
      "execution_count": 54,
      "outputs": []
    },
    {
      "cell_type": "code",
      "metadata": {
        "id": "CSFv7W623MXo",
        "colab_type": "code",
        "colab": {
          "base_uri": "https://localhost:8080/",
          "height": 585
        },
        "outputId": "f4297695-ea21-4c82-c3bd-ddc172734f90"
      },
      "source": [
        "#Interpolation or filling of missing data - plots of original and final columns\n",
        "\n",
        "food[\"Consumption_Growth_bfill\"]= food.Consumption_Growth.fillna(method=\"bfill\")\n",
        "food[\"Unemployment_Rate_percent_bfill\"]= food.Unemployment_Rate_percent.fillna(method=\"bfill\")\n",
        "food[\"Population_Growth_percent_spline\"]= food.Population_Growth_percent.interpolate(method=\"spline\",order=2)\n",
        "\n",
        "fig, axs = plt.subplots(3,2,figsize=(20,10))\n",
        "plt.subplots_adjust(top = 0.99, bottom=0.01, hspace=1.5, wspace=0.4)\n",
        "axs[0, 0].plot(food[\"Year\"],food.Consumption_Growth)\n",
        "axs[0, 0].set_title('CONSUMPTION GROWTH')\n",
        "axs[0, 1].plot(food.Year,food.Consumption_Growth_bfill, 'tab:orange')\n",
        "axs[0, 1].set_title('CONSUMPTION GROWTH INTERPOLATED')\n",
        "\n",
        "axs[1, 0].plot(food[\"Year\"],food.Unemployment_Rate_percent)\n",
        "axs[1, 0].set_title('UNEMPLOYMENT RATE PERCENT')\n",
        "axs[1, 1].plot(food.Year,food.Unemployment_Rate_percent_bfill, 'tab:orange')\n",
        "axs[1, 1].set_title('UNEMPLOYMENT RATE PERCENT INTERPOLATED')\n",
        "\n",
        "axs[2, 0].plot(food[\"Year\"],food.Population_Growth_percent)\n",
        "axs[2, 0].set_title('POPULATION GROWTH PERCENT')\n",
        "axs[2, 1].plot(food.Year,food.Population_Growth_percent_spline, 'tab:orange')\n",
        "axs[2, 1].set_title('POPULATION GROWTH PERCENT INTERPOLATED FOR SPLINE')\n",
        "\n",
        "plt.show()\n",
        "\n",
        "\n"
      ],
      "execution_count": 55,
      "outputs": [
        {
          "output_type": "display_data",
          "data": {
            "image/png": "[encoded data removed]",
            "text/plain": [
              "<Figure size 1440x720 with 6 Axes>"
            ]
          },
          "metadata": {
            "tags": [],
            "needs_background": "light"
          }
        }
      ]
    },
    {
      "cell_type": "code",
      "metadata": {
        "id": "S_tktYJH6QjN",
        "colab_type": "code",
        "colab": {}
      },
      "source": [
        "#Replace the original columns with the newly filled columns and drop them from the dataframe\n",
        "\n",
        "food[\"Consumption_Growth\"] = food[\"Consumption_Growth_bfill\"]\n",
        "food[\"Unemployment_Rate_percent\"] = food[\"Unemployment_Rate_percent_bfill\"]\n",
        "food[\"Population_Growth_percent\"] = food[\"Population_Growth_percent_spline\"]\n",
        "food = food.drop([\"Serial_Number\",\"Consumption_Growth_bfill\", \"Unemployment_Rate_percent_bfill\", \"Population_Growth_percent_spline\"], axis=1)  #axis=1 drops the entire columns"
      ],
      "execution_count": 56,
      "outputs": []
    },
    {
      "cell_type": "code",
      "metadata": {
        "id": "eenVH3EcBnPa",
        "colab_type": "code",
        "colab": {}
      },
      "source": [
        "#food = food.drop([\"Serial_Number\"], axis=1)"
      ],
      "execution_count": 57,
      "outputs": []
    },
    {
      "cell_type": "code",
      "metadata": {
        "id": "X-VEiAqt8gIA",
        "colab_type": "code",
        "colab": {
          "base_uri": "https://localhost:8080/",
          "height": 218
        },
        "outputId": "1aeeb63c-bb14-4b34-fdc2-02f68924d3f5"
      },
      "source": [
        "#check for missing values in the dataset\n",
        "if food.isnull().values.any() == True:  \n",
        "  food = food.dropna(axis=1) #drop missing value if any along axis=1 (entire column with any missing data)\n",
        "\n",
        "food.head()"
      ],
      "execution_count": 58,
      "outputs": [
        {
          "output_type": "execute_result",
          "data": {
            "text/html": [
              "<div>\n",
              "<style scoped>\n",
              "    .dataframe tbody tr th:only-of-type {\n",
              "        vertical-align: middle;\n",
              "    }\n",
              "\n",
              "    .dataframe tbody tr th {\n",
              "        vertical-align: top;\n",
              "    }\n",
              "\n",
              "    .dataframe thead th {\n",
              "        text-align: right;\n",
              "    }\n",
              "</style>\n",
              "<table border=\"1\" class=\"dataframe\">\n",
              "  <thead>\n",
              "    <tr style=\"text-align: right;\">\n",
              "      <th></th>\n",
              "      <th>Year</th>\n",
              "      <th>Production_Quantity_tonnes</th>\n",
              "      <th>Yield_hg/ha</th>\n",
              "      <th>Food_Supply_Consumption_ha</th>\n",
              "      <th>Inflation</th>\n",
              "      <th>Population_Size_millions</th>\n",
              "      <th>Population_Age_percent</th>\n",
              "      <th>Consumption_Growth</th>\n",
              "      <th>Unemployment_Rate_percent</th>\n",
              "      <th>Population_Growth_percent</th>\n",
              "      <th>Food_Demand</th>\n",
              "    </tr>\n",
              "  </thead>\n",
              "  <tbody>\n",
              "    <tr>\n",
              "      <th>0</th>\n",
              "      <td>1961</td>\n",
              "      <td>7384000</td>\n",
              "      <td>94667</td>\n",
              "      <td>780000</td>\n",
              "      <td>6.3</td>\n",
              "      <td>46.06</td>\n",
              "      <td>2.86</td>\n",
              "      <td>60.77</td>\n",
              "      <td>3.64</td>\n",
              "      <td>2.03</td>\n",
              "      <td>389817</td>\n",
              "    </tr>\n",
              "    <tr>\n",
              "      <th>1</th>\n",
              "      <td>1962</td>\n",
              "      <td>7583000</td>\n",
              "      <td>87665</td>\n",
              "      <td>865000</td>\n",
              "      <td>5.3</td>\n",
              "      <td>47.03</td>\n",
              "      <td>2.88</td>\n",
              "      <td>60.77</td>\n",
              "      <td>3.64</td>\n",
              "      <td>2.08</td>\n",
              "      <td>398027</td>\n",
              "    </tr>\n",
              "    <tr>\n",
              "      <th>2</th>\n",
              "      <td>1963</td>\n",
              "      <td>7783000</td>\n",
              "      <td>97166</td>\n",
              "      <td>801000</td>\n",
              "      <td>2.7</td>\n",
              "      <td>48.03</td>\n",
              "      <td>2.90</td>\n",
              "      <td>60.77</td>\n",
              "      <td>3.64</td>\n",
              "      <td>2.11</td>\n",
              "      <td>406490</td>\n",
              "    </tr>\n",
              "    <tr>\n",
              "      <th>3</th>\n",
              "      <td>1964</td>\n",
              "      <td>7982000</td>\n",
              "      <td>91747</td>\n",
              "      <td>870000</td>\n",
              "      <td>0.9</td>\n",
              "      <td>49.07</td>\n",
              "      <td>2.89</td>\n",
              "      <td>60.77</td>\n",
              "      <td>3.64</td>\n",
              "      <td>2.13</td>\n",
              "      <td>415292</td>\n",
              "    </tr>\n",
              "    <tr>\n",
              "      <th>4</th>\n",
              "      <td>1965</td>\n",
              "      <td>8182000</td>\n",
              "      <td>98697</td>\n",
              "      <td>829000</td>\n",
              "      <td>4.0</td>\n",
              "      <td>50.13</td>\n",
              "      <td>2.87</td>\n",
              "      <td>60.77</td>\n",
              "      <td>3.64</td>\n",
              "      <td>2.14</td>\n",
              "      <td>424263</td>\n",
              "    </tr>\n",
              "  </tbody>\n",
              "</table>\n",
              "</div>"
            ],
            "text/plain": [
              "   Year  Production_Quantity_tonnes  ...  Population_Growth_percent  Food_Demand\n",
              "0  1961                     7384000  ...                       2.03       389817\n",
              "1  1962                     7583000  ...                       2.08       398027\n",
              "2  1963                     7783000  ...                       2.11       406490\n",
              "3  1964                     7982000  ...                       2.13       415292\n",
              "4  1965                     8182000  ...                       2.14       424263\n",
              "\n",
              "[5 rows x 11 columns]"
            ]
          },
          "metadata": {
            "tags": []
          },
          "execution_count": 58
        }
      ]
    },
    {
      "cell_type": "markdown",
      "metadata": {
        "id": "_85s6FE__CR_",
        "colab_type": "text"
      },
      "source": [
        ""
      ]
    },
    {
      "cell_type": "code",
      "metadata": {
        "id": "4Ksf2JKjkymd",
        "colab_type": "code",
        "colab": {
          "base_uri": "https://localhost:8080/",
          "height": 705
        },
        "outputId": "197c42d7-9e70-4cd4-d78e-b904eef1f08c"
      },
      "source": [
        "plt.figure(figsize=(15,10))\n",
        "corr = food.corr()\n",
        "sns.heatmap(corr, cmap='BrBG')"
      ],
      "execution_count": 59,
      "outputs": [
        {
          "output_type": "execute_result",
          "data": {
            "text/plain": [
              "<matplotlib.axes._subplots.AxesSubplot at 0x7f84c45e54e0>"
            ]
          },
          "metadata": {
            "tags": []
          },
          "execution_count": 59
        },
        {
          "output_type": "display_data",
          "data": {
            "image/png": "[encoded data removed]",
            "text/plain": [
              "<Figure size 1080x720 with 2 Axes>"
            ]
          },
          "metadata": {
            "tags": [],
            "needs_background": "light"
          }
        }
      ]
    },
    {
      "cell_type": "code",
      "metadata": {
        "id": "Dd6FKwhIgqny",
        "colab_type": "code",
        "colab": {
          "base_uri": "https://localhost:8080/",
          "height": 248
        },
        "outputId": "e5426512-0e15-4e20-f4f7-ffccdaba5c7f"
      },
      "source": [
        "#data = food[['Year', 'Production_Quantity_tonnes',\t'Yield_hg/ha'\t, 'Food_supply_consumption_ha', 'Inflation', 'Food_demand']]\n",
        "data = food\n",
        "#set Year as index so as to make the dataset timeseries\n",
        "data = data.set_index(['Year'])\n",
        "data.tail()"
      ],
      "execution_count": 60,
      "outputs": [
        {
          "output_type": "execute_result",
          "data": {
            "text/html": [
              "<div>\n",
              "<style scoped>\n",
              "    .dataframe tbody tr th:only-of-type {\n",
              "        vertical-align: middle;\n",
              "    }\n",
              "\n",
              "    .dataframe tbody tr th {\n",
              "        vertical-align: top;\n",
              "    }\n",
              "\n",
              "    .dataframe thead th {\n",
              "        text-align: right;\n",
              "    }\n",
              "</style>\n",
              "<table border=\"1\" class=\"dataframe\">\n",
              "  <thead>\n",
              "    <tr style=\"text-align: right;\">\n",
              "      <th></th>\n",
              "      <th>Production_Quantity_tonnes</th>\n",
              "      <th>Yield_hg/ha</th>\n",
              "      <th>Food_Supply_Consumption_ha</th>\n",
              "      <th>Inflation</th>\n",
              "      <th>Population_Size_millions</th>\n",
              "      <th>Population_Age_percent</th>\n",
              "      <th>Consumption_Growth</th>\n",
              "      <th>Unemployment_Rate_percent</th>\n",
              "      <th>Population_Growth_percent</th>\n",
              "      <th>Food_Demand</th>\n",
              "    </tr>\n",
              "    <tr>\n",
              "      <th>Year</th>\n",
              "      <th></th>\n",
              "      <th></th>\n",
              "      <th></th>\n",
              "      <th></th>\n",
              "      <th></th>\n",
              "      <th></th>\n",
              "      <th></th>\n",
              "      <th></th>\n",
              "      <th></th>\n",
              "      <th></th>\n",
              "    </tr>\n",
              "  </thead>\n",
              "  <tbody>\n",
              "    <tr>\n",
              "      <th>2014</th>\n",
              "      <td>56328480</td>\n",
              "      <td>87217</td>\n",
              "      <td>6458435</td>\n",
              "      <td>9.0</td>\n",
              "      <td>176.40</td>\n",
              "      <td>2.75</td>\n",
              "      <td>37.03</td>\n",
              "      <td>4.56</td>\n",
              "      <td>13.794882</td>\n",
              "      <td>1492918</td>\n",
              "    </tr>\n",
              "    <tr>\n",
              "      <th>2015</th>\n",
              "      <td>57643271</td>\n",
              "      <td>92727</td>\n",
              "      <td>6216434</td>\n",
              "      <td>15.7</td>\n",
              "      <td>181.14</td>\n",
              "      <td>2.74</td>\n",
              "      <td>63.33</td>\n",
              "      <td>4.31</td>\n",
              "      <td>14.254945</td>\n",
              "      <td>1533034</td>\n",
              "    </tr>\n",
              "    <tr>\n",
              "      <th>2016</th>\n",
              "      <td>59565916</td>\n",
              "      <td>96584</td>\n",
              "      <td>6167296</td>\n",
              "      <td>16.5</td>\n",
              "      <td>185.96</td>\n",
              "      <td>2.75</td>\n",
              "      <td>46.88</td>\n",
              "      <td>7.06</td>\n",
              "      <td>14.723868</td>\n",
              "      <td>1573826</td>\n",
              "    </tr>\n",
              "    <tr>\n",
              "      <th>2017</th>\n",
              "      <td>59350878</td>\n",
              "      <td>89524</td>\n",
              "      <td>6629632</td>\n",
              "      <td>12.1</td>\n",
              "      <td>190.87</td>\n",
              "      <td>2.75</td>\n",
              "      <td>41.82</td>\n",
              "      <td>8.39</td>\n",
              "      <td>15.201651</td>\n",
              "      <td>1615381</td>\n",
              "    </tr>\n",
              "    <tr>\n",
              "      <th>2018</th>\n",
              "      <td>59475202</td>\n",
              "      <td>86789</td>\n",
              "      <td>6852857</td>\n",
              "      <td>11.4</td>\n",
              "      <td>195.87</td>\n",
              "      <td>2.75</td>\n",
              "      <td>29.20</td>\n",
              "      <td>8.24</td>\n",
              "      <td>15.688294</td>\n",
              "      <td>1657697</td>\n",
              "    </tr>\n",
              "  </tbody>\n",
              "</table>\n",
              "</div>"
            ],
            "text/plain": [
              "      Production_Quantity_tonnes  ...  Food_Demand\n",
              "Year                              ...             \n",
              "2014                    56328480  ...      1492918\n",
              "2015                    57643271  ...      1533034\n",
              "2016                    59565916  ...      1573826\n",
              "2017                    59350878  ...      1615381\n",
              "2018                    59475202  ...      1657697\n",
              "\n",
              "[5 rows x 10 columns]"
            ]
          },
          "metadata": {
            "tags": []
          },
          "execution_count": 60
        }
      ]
    },
    {
      "cell_type": "code",
      "metadata": {
        "id": "S499-alrlvk4",
        "colab_type": "code",
        "colab": {
          "base_uri": "https://localhost:8080/",
          "height": 535
        },
        "outputId": "85fa5b17-c1cd-4237-f321-606fe741fb3b"
      },
      "source": [
        "data.plot(figsize=(15,8), title= 'Food demand', fontsize=14)  #visualize the entire data against the Year"
      ],
      "execution_count": 61,
      "outputs": [
        {
          "output_type": "execute_result",
          "data": {
            "text/plain": [
              "<matplotlib.axes._subplots.AxesSubplot at 0x7f84c4308ba8>"
            ]
          },
          "metadata": {
            "tags": []
          },
          "execution_count": 61
        },
        {
          "output_type": "display_data",
          "data": {
            "image/png": "[encoded data removed]",
            "text/plain": [
              "<Figure size 1080x576 with 1 Axes>"
            ]
          },
          "metadata": {
            "tags": [],
            "needs_background": "light"
          }
        }
      ]
    },
    {
      "cell_type": "code",
      "metadata": {
        "id": "OBLbm2GLtcR1",
        "colab_type": "code",
        "colab": {
          "base_uri": "https://localhost:8080/",
          "height": 35
        },
        "outputId": "1edd770e-0a4f-4de6-fed0-ed5145c919fc"
      },
      "source": [
        "#pd.tools.plotting.lag_plot(food['Food_Demand'])\n",
        "#checking for dependence (correlation) which is the first assumption for autoregressive models\n",
        "\n",
        "food['Food_Demand'].corr(food['Food_Demand'].shift(4))"
      ],
      "execution_count": 62,
      "outputs": [
        {
          "output_type": "execute_result",
          "data": {
            "text/plain": [
              "0.9999325253156837"
            ]
          },
          "metadata": {
            "tags": []
          },
          "execution_count": 62
        }
      ]
    },
    {
      "cell_type": "markdown",
      "metadata": {
        "id": "hG7cIES3POKI",
        "colab_type": "text"
      },
      "source": [
        "## Linear regression model"
      ]
    },
    {
      "cell_type": "code",
      "metadata": {
        "id": "2Kg_g4IQSL3V",
        "colab_type": "code",
        "colab": {}
      },
      "source": [
        "### Create a simple linear regression model for the multivariate time series\n",
        "\n",
        "#shifting the data back in time\n",
        "data_shifted = data\n",
        "for i in range(1,5):\n",
        "  data_shifted[\"shift_{}\".format(i)] = data.Food_Demand.shift(i)\n",
        "\n"
      ],
      "execution_count": 63,
      "outputs": []
    },
    {
      "cell_type": "code",
      "metadata": {
        "id": "C4HwycirSRMc",
        "colab_type": "code",
        "colab": {
          "base_uri": "https://localhost:8080/",
          "height": 417
        },
        "outputId": "82061a0e-cae8-4bdf-b24c-9bb55ca62f11"
      },
      "source": [
        "plt.figure(figsize=(8,6))\n",
        "sns.lineplot(data.index, data.Food_Demand)"
      ],
      "execution_count": 64,
      "outputs": [
        {
          "output_type": "execute_result",
          "data": {
            "text/plain": [
              "<matplotlib.axes._subplots.AxesSubplot at 0x7f84c47a9438>"
            ]
          },
          "metadata": {
            "tags": []
          },
          "execution_count": 64
        },
        {
          "output_type": "display_data",
          "data": {
            "image/png": "[encoded data removed]",
            "text/plain": [
              "<Figure size 576x432 with 1 Axes>"
            ]
          },
          "metadata": {
            "tags": [],
            "needs_background": "light"
          }
        }
      ]
    },
    {
      "cell_type": "code",
      "metadata": {
        "id": "OuVeXG2fSRsN",
        "colab_type": "code",
        "colab": {}
      },
      "source": [
        "data_shifted = data_shifted.dropna()   #drop missing values"
      ],
      "execution_count": 65,
      "outputs": []
    },
    {
      "cell_type": "code",
      "metadata": {
        "id": "ssAbxraon6fX",
        "colab_type": "code",
        "colab": {
          "base_uri": "https://localhost:8080/",
          "height": 218
        },
        "outputId": "2320369f-849a-4f89-80fb-04182df81e91"
      },
      "source": [
        "#Select X and y variables\n",
        "data_shifted = data_shifted.reset_index()\n",
        "X = data_shifted.drop(['Food_Demand'], axis=1) # data[['Year', 'Production_Quantity_tonnes',\t'Yield_hg/ha'\t, 'Food_supply_consumption_ha', 'Inflation', 'Population_growth_percent']]\n",
        "y = data_shifted[['Food_Demand']]\n",
        "X.head()"
      ],
      "execution_count": 66,
      "outputs": [
        {
          "output_type": "execute_result",
          "data": {
            "text/html": [
              "<div>\n",
              "<style scoped>\n",
              "    .dataframe tbody tr th:only-of-type {\n",
              "        vertical-align: middle;\n",
              "    }\n",
              "\n",
              "    .dataframe tbody tr th {\n",
              "        vertical-align: top;\n",
              "    }\n",
              "\n",
              "    .dataframe thead th {\n",
              "        text-align: right;\n",
              "    }\n",
              "</style>\n",
              "<table border=\"1\" class=\"dataframe\">\n",
              "  <thead>\n",
              "    <tr style=\"text-align: right;\">\n",
              "      <th></th>\n",
              "      <th>Year</th>\n",
              "      <th>Production_Quantity_tonnes</th>\n",
              "      <th>Yield_hg/ha</th>\n",
              "      <th>Food_Supply_Consumption_ha</th>\n",
              "      <th>Inflation</th>\n",
              "      <th>Population_Size_millions</th>\n",
              "      <th>Population_Age_percent</th>\n",
              "      <th>Consumption_Growth</th>\n",
              "      <th>Unemployment_Rate_percent</th>\n",
              "      <th>Population_Growth_percent</th>\n",
              "      <th>shift_1</th>\n",
              "      <th>shift_2</th>\n",
              "      <th>shift_3</th>\n",
              "      <th>shift_4</th>\n",
              "    </tr>\n",
              "  </thead>\n",
              "  <tbody>\n",
              "    <tr>\n",
              "      <th>0</th>\n",
              "      <td>1965</td>\n",
              "      <td>8182000</td>\n",
              "      <td>98697</td>\n",
              "      <td>829000</td>\n",
              "      <td>4.0</td>\n",
              "      <td>50.13</td>\n",
              "      <td>2.87</td>\n",
              "      <td>60.77</td>\n",
              "      <td>3.64</td>\n",
              "      <td>2.14</td>\n",
              "      <td>415292.0</td>\n",
              "      <td>406490.0</td>\n",
              "      <td>398027.0</td>\n",
              "      <td>389817.0</td>\n",
              "    </tr>\n",
              "    <tr>\n",
              "      <th>1</th>\n",
              "      <td>1966</td>\n",
              "      <td>8382000</td>\n",
              "      <td>92110</td>\n",
              "      <td>910000</td>\n",
              "      <td>9.7</td>\n",
              "      <td>51.22</td>\n",
              "      <td>2.89</td>\n",
              "      <td>60.77</td>\n",
              "      <td>3.64</td>\n",
              "      <td>2.15</td>\n",
              "      <td>424263.0</td>\n",
              "      <td>415292.0</td>\n",
              "      <td>406490.0</td>\n",
              "      <td>398027.0</td>\n",
              "    </tr>\n",
              "    <tr>\n",
              "      <th>2</th>\n",
              "      <td>1967</td>\n",
              "      <td>8581000</td>\n",
              "      <td>89572</td>\n",
              "      <td>958000</td>\n",
              "      <td>-3.7</td>\n",
              "      <td>52.34</td>\n",
              "      <td>2.89</td>\n",
              "      <td>60.77</td>\n",
              "      <td>3.64</td>\n",
              "      <td>2.17</td>\n",
              "      <td>433488.0</td>\n",
              "      <td>424263.0</td>\n",
              "      <td>415292.0</td>\n",
              "      <td>406490.0</td>\n",
              "    </tr>\n",
              "    <tr>\n",
              "      <th>3</th>\n",
              "      <td>1968</td>\n",
              "      <td>8801000</td>\n",
              "      <td>97572</td>\n",
              "      <td>902000</td>\n",
              "      <td>-0.5</td>\n",
              "      <td>53.51</td>\n",
              "      <td>2.88</td>\n",
              "      <td>60.77</td>\n",
              "      <td>3.64</td>\n",
              "      <td>2.20</td>\n",
              "      <td>442967.0</td>\n",
              "      <td>433488.0</td>\n",
              "      <td>424263.0</td>\n",
              "      <td>415292.0</td>\n",
              "    </tr>\n",
              "    <tr>\n",
              "      <th>4</th>\n",
              "      <td>1969</td>\n",
              "      <td>9040000</td>\n",
              "      <td>99779</td>\n",
              "      <td>906000</td>\n",
              "      <td>10.2</td>\n",
              "      <td>54.72</td>\n",
              "      <td>2.86</td>\n",
              "      <td>60.77</td>\n",
              "      <td>3.64</td>\n",
              "      <td>2.24</td>\n",
              "      <td>452869.0</td>\n",
              "      <td>442967.0</td>\n",
              "      <td>433488.0</td>\n",
              "      <td>424263.0</td>\n",
              "    </tr>\n",
              "  </tbody>\n",
              "</table>\n",
              "</div>"
            ],
            "text/plain": [
              "   Year  Production_Quantity_tonnes  Yield_hg/ha  ...   shift_2   shift_3   shift_4\n",
              "0  1965                     8182000        98697  ...  406490.0  398027.0  389817.0\n",
              "1  1966                     8382000        92110  ...  415292.0  406490.0  398027.0\n",
              "2  1967                     8581000        89572  ...  424263.0  415292.0  406490.0\n",
              "3  1968                     8801000        97572  ...  433488.0  424263.0  415292.0\n",
              "4  1969                     9040000        99779  ...  442967.0  433488.0  424263.0\n",
              "\n",
              "[5 rows x 14 columns]"
            ]
          },
          "metadata": {
            "tags": []
          },
          "execution_count": 66
        }
      ]
    },
    {
      "cell_type": "code",
      "metadata": {
        "id": "7HCoHaY0mO4S",
        "colab_type": "code",
        "colab": {}
      },
      "source": [
        "#standardize features by removing the mean and scaling to unit variance\n",
        "\n",
        "ss_x = MinMaxScaler()\n",
        "X = ss_x.fit_transform(X)\n",
        "ss_y = MinMaxScaler()\n",
        "y = ss_y.fit_transform(y)"
      ],
      "execution_count": 67,
      "outputs": []
    },
    {
      "cell_type": "code",
      "metadata": {
        "id": "iR-r91wsuw5Z",
        "colab_type": "code",
        "colab": {}
      },
      "source": [
        "X_train, X_test, y_train, y_test = train_test_split(X,y, test_size= 0.2, shuffle=False)"
      ],
      "execution_count": 68,
      "outputs": []
    },
    {
      "cell_type": "code",
      "metadata": {
        "id": "JlTbIFAgzWLC",
        "colab_type": "code",
        "colab": {
          "base_uri": "https://localhost:8080/",
          "height": 35
        },
        "outputId": "3d94a7fc-fcf7-4949-b505-537a4319adf8"
      },
      "source": [
        "#Fitting the model to the data using Linear Regression\n",
        "model = LinearRegression()\n",
        "model.fit(X_train, y_train)"
      ],
      "execution_count": 69,
      "outputs": [
        {
          "output_type": "execute_result",
          "data": {
            "text/plain": [
              "LinearRegression(copy_X=True, fit_intercept=True, n_jobs=None, normalize=False)"
            ]
          },
          "metadata": {
            "tags": []
          },
          "execution_count": 69
        }
      ]
    },
    {
      "cell_type": "code",
      "metadata": {
        "id": "JQYth7gSyu9H",
        "colab_type": "code",
        "colab": {}
      },
      "source": [
        "ts_cross = TimeSeriesSplit(n_splits=5)  #define crossvalidation for time series data\n",
        "cv = cross_val_score(model, X_train, y_train, cv=ts_cross, scoring=\"neg_mean_squared_error\")\n"
      ],
      "execution_count": 70,
      "outputs": []
    },
    {
      "cell_type": "code",
      "metadata": {
        "id": "mKKsQaeN0GvK",
        "colab_type": "code",
        "colab": {}
      },
      "source": [
        "y_pred = model.predict(X_test)"
      ],
      "execution_count": 71,
      "outputs": []
    },
    {
      "cell_type": "code",
      "metadata": {
        "id": "I5fR0dLk0OIp",
        "colab_type": "code",
        "colab": {
          "base_uri": "https://localhost:8080/",
          "height": 387
        },
        "outputId": "498bf660-130e-4b38-b758-72b0b8b86df5"
      },
      "source": [
        "plt.figure(figsize=(20,8))\n",
        "plt.plot(y_pred, \"r\", label=\"prediction\")\n",
        "plt.plot(y_test, \"b\",label=\"actual\")\n",
        "plt.legend()"
      ],
      "execution_count": 72,
      "outputs": [
        {
          "output_type": "execute_result",
          "data": {
            "text/plain": [
              "<matplotlib.legend.Legend at 0x7f84d33d8160>"
            ]
          },
          "metadata": {
            "tags": []
          },
          "execution_count": 72
        },
        {
          "output_type": "display_data",
          "data": {
            "image/png": "[encoded data removed]",
            "text/plain": [
              "<Figure size 1440x576 with 1 Axes>"
            ]
          },
          "metadata": {
            "tags": [],
            "needs_background": "light"
          }
        }
      ]
    },
    {
      "cell_type": "code",
      "metadata": {
        "id": "P31OABBHDF5u",
        "colab_type": "code",
        "colab": {
          "base_uri": "https://localhost:8080/",
          "height": 35
        },
        "outputId": "5404c794-b40c-49d5-980f-91af6a77ea1f"
      },
      "source": [
        "rms = sqrt(mean_squared_error(y_test, y_pred))\n",
        "print(rms)"
      ],
      "execution_count": 73,
      "outputs": [
        {
          "output_type": "stream",
          "text": [
            "0.04044921555154772\n"
          ],
          "name": "stdout"
        }
      ]
    },
    {
      "cell_type": "code",
      "metadata": {
        "id": "b5JekXrFTE1D",
        "colab_type": "code",
        "colab": {
          "base_uri": "https://localhost:8080/",
          "height": 35
        },
        "outputId": "ca0c8a78-9b3f-4612-f9ed-14fe1e59940b"
      },
      "source": [
        "# inverse transforms\n",
        "x_inv = ss_x.inverse_transform(X_test)\n",
        "y_inv = ss_y.inverse_transform(y_test)\n",
        "yhat_plot = ss_y.inverse_transform(y_pred)\n",
        "print (x_inv[:,0])"
      ],
      "execution_count": 74,
      "outputs": [
        {
          "output_type": "stream",
          "text": [
            "[2008. 2009. 2010. 2011. 2012. 2013. 2014. 2015. 2016. 2017. 2018.]\n"
          ],
          "name": "stdout"
        }
      ]
    },
    {
      "cell_type": "code",
      "metadata": {
        "id": "Q9rv3OZoV5ql",
        "colab_type": "code",
        "colab": {
          "base_uri": "https://localhost:8080/",
          "height": 398
        },
        "outputId": "2226a675-7a02-4da7-f717-6b8cee1c5a8e"
      },
      "source": [
        "plt.figure(figsize=(20,8))\n",
        "plt.plot(x_inv[:,0], y_inv, \"r\", label=\"prediction\")\n",
        "plt.plot(x_inv[:,0], yhat_plot, \"b\",label=\"actual\")\n",
        "plt.legend()"
      ],
      "execution_count": 75,
      "outputs": [
        {
          "output_type": "execute_result",
          "data": {
            "text/plain": [
              "<matplotlib.legend.Legend at 0x7f84d38b9780>"
            ]
          },
          "metadata": {
            "tags": []
          },
          "execution_count": 75
        },
        {
          "output_type": "display_data",
          "data": {
            "image/png": "[encoded data removed]",
            "text/plain": [
              "<Figure size 1440x576 with 1 Axes>"
            ]
          },
          "metadata": {
            "tags": [],
            "needs_background": "light"
          }
        }
      ]
    },
    {
      "cell_type": "code",
      "metadata": {
        "id": "9fsyAPL0YseD",
        "colab_type": "code",
        "colab": {
          "base_uri": "https://localhost:8080/",
          "height": 35
        },
        "outputId": "2705bfb0-3cb1-4a4a-ffcc-16e0da9a332f"
      },
      "source": [
        "rms = sqrt(mean_squared_error(y_inv, yhat_plot))\n",
        "print(rms)"
      ],
      "execution_count": 76,
      "outputs": [
        {
          "output_type": "stream",
          "text": [
            "49891.43773460775\n"
          ],
          "name": "stdout"
        }
      ]
    },
    {
      "cell_type": "markdown",
      "metadata": {
        "id": "-5CdxoQpcKmD",
        "colab_type": "text"
      },
      "source": [
        "## Vector Autoregression (VAR) model"
      ]
    },
    {
      "cell_type": "code",
      "metadata": {
        "id": "TQ45AJdr6IcR",
        "colab_type": "code",
        "colab": {
          "base_uri": "https://localhost:8080/",
          "height": 54
        },
        "outputId": "faeebf60-a34d-43be-8cd8-d9595a30354c"
      },
      "source": [
        "data = data.dropna() #drop missing value if any\n",
        "Train = data.iloc[0:50,:]  #select the first 50 rows\n",
        "Test = data.iloc[50:,:] #select the remaining rows\n",
        "print (len(Train))\n",
        "print (len(Test))"
      ],
      "execution_count": 120,
      "outputs": [
        {
          "output_type": "stream",
          "text": [
            "50\n",
            "4\n"
          ],
          "name": "stdout"
        }
      ]
    },
    {
      "cell_type": "code",
      "metadata": {
        "id": "vKqUkCvE8GXp",
        "colab_type": "code",
        "colab": {}
      },
      "source": [
        "y_hat_dummy = np.zeros(shape=(4,9))  #create a dummy variable which is same as the Test\n",
        "y_hat = pd.DataFrame(y_hat_dummy)"
      ],
      "execution_count": 78,
      "outputs": []
    },
    {
      "cell_type": "code",
      "metadata": {
        "id": "L-AKbhCmEKqf",
        "colab_type": "code",
        "colab": {
          "base_uri": "https://localhost:8080/",
          "height": 454
        },
        "outputId": "ff9235d0-f028-469f-ca07-dae9d6917b39"
      },
      "source": [
        "Model = VAR(endog=Train)\n",
        "model_fit = Model.fit()\n",
        "y_pred = model_fit.forecast(model_fit.y, steps=len(Test))\n",
        "print(y_pred)"
      ],
      "execution_count": 79,
      "outputs": [
        {
          "output_type": "stream",
          "text": [
            "[[ 7.00623651e+07  3.95743735e+04  9.89960120e+06 -1.42542520e+01\n",
            "   1.81083581e+02  2.72450348e+00  6.37135660e+01  4.33699710e+00\n",
            "   1.42466927e+01  1.53255782e+06  1.49291800e+06  1.45373300e+06\n",
            "   1.41531000e+06  1.37790200e+06]\n",
            " [ 7.25317976e+07  2.14303432e+04  1.06366618e+07 -2.81711113e+01\n",
            "   1.85792490e+02  2.69394152e+00  1.29784460e+02  4.54784544e+00\n",
            "   1.47470549e+01  1.57240934e+06  1.53255782e+06  1.49291800e+06\n",
            "   1.45373300e+06  1.41531000e+06]\n",
            " [ 8.40934329e+07  1.80351466e+04  1.15490205e+07 -3.78216501e+01\n",
            "   1.90502012e+02  2.64468687e+00  5.52422064e+01  5.05717013e+00\n",
            "   1.52620316e+01  1.61226818e+06  1.57240934e+06  1.53255782e+06\n",
            "   1.49291800e+06  1.45373300e+06]\n",
            " [ 9.36055772e+07 -1.76341450e+04  1.37746236e+07 -6.84947453e+01\n",
            "   1.95208374e+02  2.58840902e+00  1.00432018e+02  4.93576971e+00\n",
            "   1.57996603e+01  1.65209958e+06  1.61226818e+06  1.57240934e+06\n",
            "   1.53255782e+06  1.49291800e+06]]\n"
          ],
          "name": "stdout"
        },
        {
          "output_type": "stream",
          "text": [
            "/usr/local/lib/python3.6/dist-packages/statsmodels/tsa/base/tsa_model.py:215: ValueWarning:\n",
            "\n",
            "An unsupported index was provided and will be ignored when e.g. forecasting.\n",
            "\n",
            "/usr/local/lib/python3.6/dist-packages/statsmodels/base/wrapper.py:35: FutureWarning:\n",
            "\n",
            "y is a deprecated alias for endog, will be removed in version 0.11.0\n",
            "\n"
          ],
          "name": "stderr"
        }
      ]
    },
    {
      "cell_type": "code",
      "metadata": {
        "id": "mNqD1nSBa-5l",
        "colab_type": "code",
        "colab": {
          "base_uri": "https://localhost:8080/",
          "height": 218
        },
        "outputId": "b0d1c4b7-0034-46e8-81e2-fb891ab7f74c"
      },
      "source": [
        "y_pred_df = pd.DataFrame(data=y_pred)  #convert y_pred from numpy to dataframe\n",
        "\n",
        "y_pred_df = y_pred_df.set_index(Test.index)  #set the same index as y_hat\n",
        "\n",
        "y_pred_df.columns = Test.columns.values\n",
        "y_pred_df.head()\n",
        "\n"
      ],
      "execution_count": 80,
      "outputs": [
        {
          "output_type": "execute_result",
          "data": {
            "text/html": [
              "<div>\n",
              "<style scoped>\n",
              "    .dataframe tbody tr th:only-of-type {\n",
              "        vertical-align: middle;\n",
              "    }\n",
              "\n",
              "    .dataframe tbody tr th {\n",
              "        vertical-align: top;\n",
              "    }\n",
              "\n",
              "    .dataframe thead th {\n",
              "        text-align: right;\n",
              "    }\n",
              "</style>\n",
              "<table border=\"1\" class=\"dataframe\">\n",
              "  <thead>\n",
              "    <tr style=\"text-align: right;\">\n",
              "      <th></th>\n",
              "      <th>Production_Quantity_tonnes</th>\n",
              "      <th>Yield_hg/ha</th>\n",
              "      <th>Food_Supply_Consumption_ha</th>\n",
              "      <th>Inflation</th>\n",
              "      <th>Population_Size_millions</th>\n",
              "      <th>Population_Age_percent</th>\n",
              "      <th>Consumption_Growth</th>\n",
              "      <th>Unemployment_Rate_percent</th>\n",
              "      <th>Population_Growth_percent</th>\n",
              "      <th>Food_Demand</th>\n",
              "      <th>shift_1</th>\n",
              "      <th>shift_2</th>\n",
              "      <th>shift_3</th>\n",
              "      <th>shift_4</th>\n",
              "    </tr>\n",
              "    <tr>\n",
              "      <th>Year</th>\n",
              "      <th></th>\n",
              "      <th></th>\n",
              "      <th></th>\n",
              "      <th></th>\n",
              "      <th></th>\n",
              "      <th></th>\n",
              "      <th></th>\n",
              "      <th></th>\n",
              "      <th></th>\n",
              "      <th></th>\n",
              "      <th></th>\n",
              "      <th></th>\n",
              "      <th></th>\n",
              "      <th></th>\n",
              "    </tr>\n",
              "  </thead>\n",
              "  <tbody>\n",
              "    <tr>\n",
              "      <th>2015</th>\n",
              "      <td>7.006237e+07</td>\n",
              "      <td>39574.373511</td>\n",
              "      <td>9.899601e+06</td>\n",
              "      <td>-14.254252</td>\n",
              "      <td>181.083581</td>\n",
              "      <td>2.724503</td>\n",
              "      <td>63.713566</td>\n",
              "      <td>4.336997</td>\n",
              "      <td>14.246693</td>\n",
              "      <td>1.532558e+06</td>\n",
              "      <td>1.492918e+06</td>\n",
              "      <td>1.453733e+06</td>\n",
              "      <td>1.415310e+06</td>\n",
              "      <td>1377902.0</td>\n",
              "    </tr>\n",
              "    <tr>\n",
              "      <th>2016</th>\n",
              "      <td>7.253180e+07</td>\n",
              "      <td>21430.343179</td>\n",
              "      <td>1.063666e+07</td>\n",
              "      <td>-28.171111</td>\n",
              "      <td>185.792490</td>\n",
              "      <td>2.693942</td>\n",
              "      <td>129.784460</td>\n",
              "      <td>4.547845</td>\n",
              "      <td>14.747055</td>\n",
              "      <td>1.572409e+06</td>\n",
              "      <td>1.532558e+06</td>\n",
              "      <td>1.492918e+06</td>\n",
              "      <td>1.453733e+06</td>\n",
              "      <td>1415310.0</td>\n",
              "    </tr>\n",
              "    <tr>\n",
              "      <th>2017</th>\n",
              "      <td>8.409343e+07</td>\n",
              "      <td>18035.146630</td>\n",
              "      <td>1.154902e+07</td>\n",
              "      <td>-37.821650</td>\n",
              "      <td>190.502012</td>\n",
              "      <td>2.644687</td>\n",
              "      <td>55.242206</td>\n",
              "      <td>5.057170</td>\n",
              "      <td>15.262032</td>\n",
              "      <td>1.612268e+06</td>\n",
              "      <td>1.572409e+06</td>\n",
              "      <td>1.532558e+06</td>\n",
              "      <td>1.492918e+06</td>\n",
              "      <td>1453733.0</td>\n",
              "    </tr>\n",
              "    <tr>\n",
              "      <th>2018</th>\n",
              "      <td>9.360558e+07</td>\n",
              "      <td>-17634.144993</td>\n",
              "      <td>1.377462e+07</td>\n",
              "      <td>-68.494745</td>\n",
              "      <td>195.208374</td>\n",
              "      <td>2.588409</td>\n",
              "      <td>100.432018</td>\n",
              "      <td>4.935770</td>\n",
              "      <td>15.799660</td>\n",
              "      <td>1.652100e+06</td>\n",
              "      <td>1.612268e+06</td>\n",
              "      <td>1.572409e+06</td>\n",
              "      <td>1.532558e+06</td>\n",
              "      <td>1492918.0</td>\n",
              "    </tr>\n",
              "  </tbody>\n",
              "</table>\n",
              "</div>"
            ],
            "text/plain": [
              "      Production_Quantity_tonnes   Yield_hg/ha  ...       shift_3    shift_4\n",
              "Year                                            ...                         \n",
              "2015                7.006237e+07  39574.373511  ...  1.415310e+06  1377902.0\n",
              "2016                7.253180e+07  21430.343179  ...  1.453733e+06  1415310.0\n",
              "2017                8.409343e+07  18035.146630  ...  1.492918e+06  1453733.0\n",
              "2018                9.360558e+07 -17634.144993  ...  1.532558e+06  1492918.0\n",
              "\n",
              "[4 rows x 14 columns]"
            ]
          },
          "metadata": {
            "tags": []
          },
          "execution_count": 80
        }
      ]
    },
    {
      "cell_type": "code",
      "metadata": {
        "id": "FeFTb8iPM_1A",
        "colab_type": "code",
        "colab": {
          "base_uri": "https://localhost:8080/",
          "height": 465
        },
        "outputId": "8075c347-bfda-45ce-a260-f92d0a1adc70"
      },
      "source": [
        "plt.figure(figsize=(16,8))\n",
        "plt.plot(Train['Food_Demand'], label = 'Train')\n",
        "plt.plot(Test['Food_Demand'], label = 'Test')\n",
        "plt.plot(y_pred_df['Food_Demand'], label = 'Forecast')\n",
        "plt.legend()\n",
        "plt.show()"
      ],
      "execution_count": 81,
      "outputs": [
        {
          "output_type": "display_data",
          "data": {
            "image/png": "[encoded data removed]",
            "text/plain": [
              "<Figure size 1152x576 with 1 Axes>"
            ]
          },
          "metadata": {
            "tags": [],
            "needs_background": "light"
          }
        }
      ]
    },
    {
      "cell_type": "code",
      "metadata": {
        "id": "MdCqbAIIJSbh",
        "colab_type": "code",
        "colab": {}
      },
      "source": [
        "for j in range (0, len(y_pred_df.columns.values)):\n",
        "  for i in range (0, len(y_pred_df)):\n",
        "    y_pred_df.iloc[i][j] = y_pred_df[i][j]\n",
        "rms = sqrt(mean_squared_error(y_test, y_pred))\n",
        "print(rms)"
      ],
      "execution_count": null,
      "outputs": []
    },
    {
      "cell_type": "code",
      "metadata": {
        "id": "lmEVk7GaEw6w",
        "colab_type": "code",
        "colab": {
          "base_uri": "https://localhost:8080/",
          "height": 526
        },
        "outputId": "0122cab7-714b-4d69-e96e-5dbe714892d8"
      },
      "source": [
        "\n",
        "#compute the rmse\n",
        "for i in y_pred_df.columns:\n",
        "  print (i)\n",
        "  print ('rmse value for', i, 'is: ', sqrt(mean_squared_error(y_pred_df[i], Test[i] )))    "
      ],
      "execution_count": 122,
      "outputs": [
        {
          "output_type": "stream",
          "text": [
            "Production_Quantity_tonnes\n",
            "rmse value for Production_Quantity_tonnes is:  22909738.760333117\n",
            "Yield_hg/ha\n",
            "rmse value for Yield_hg/ha is:  78243.40739441047\n",
            "Food_Supply_Consumption_ha\n",
            "rmse value for Food_Supply_Consumption_ha is:  5139362.50657889\n",
            "Inflation\n",
            "rmse value for Inflation is:  54.240452792439186\n",
            "Population_Size_millions\n",
            "rmse value for Population_Size_millions is:  0.38871790898832037\n",
            "Population_Age_percent\n",
            "rmse value for Population_Age_percent is:  0.10072883879734494\n",
            "Consumption_Growth\n",
            "rmse value for Consumption_Growth is:  55.062357057240476\n",
            "Unemployment_Rate_percent\n",
            "rmse value for Unemployment_Rate_percent is:  2.661641511699549\n",
            "Population_Growth_percent\n",
            "rmse value for Population_Growth_percent is:  0.06452519286293337\n",
            "Food_Demand\n",
            "rmse value for Food_Demand is:  3288.407079642864\n",
            "shift_1\n",
            "rmse value for shift_1 is:  1726.509488048324\n",
            "shift_2\n",
            "rmse value for shift_2 is:  747.2737806966197\n",
            "shift_3\n",
            "rmse value for shift_3 is:  238.08840636746027\n",
            "shift_4\n",
            "rmse value for shift_4 is:  5.187997584034967e-09\n"
          ],
          "name": "stdout"
        }
      ]
    }
  ]
}